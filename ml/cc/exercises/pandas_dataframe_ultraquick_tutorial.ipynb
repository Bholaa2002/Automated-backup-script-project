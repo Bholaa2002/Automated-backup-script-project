{
  "nbformat": 4,
  "nbformat_minor": 0,
  "metadata": {
    "colab": {
      "name": "Pandas DataFrame UltraQuick Tutorial.ipynb",
      "provenance": [],
      "private_outputs": true
    },
    "kernelspec": {
      "name": "python3",
      "display_name": "Python 3"
    }
  },
  "cells": [
    {
      "cell_type": "code",
      "source": [],
      "metadata": {
        "id": "3L8gVnC45IvL"
      },
      "execution_count": null,
      "outputs": []
    }
  ]
}