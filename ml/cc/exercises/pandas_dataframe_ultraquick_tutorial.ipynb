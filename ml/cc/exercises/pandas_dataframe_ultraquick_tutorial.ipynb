{
  "nbformat": 4,
  "nbformat_minor": 0,
  "metadata": {
    "colab": {
      "name": "Pandas DataFrame UltraQuick Tutorial.ipynb",
      "provenance": [],
      "private_outputs": true,
      "include_colab_link": true
    },
    "kernelspec": {
      "name": "python3",
      "display_name": "Python 3"
    }
  },
  "cells": [
    {
      "cell_type": "markdown",
      "metadata": {
        "id": "view-in-github",
        "colab_type": "text"
      },
      "source": [
        "<a href=\"https://colab.research.google.com/github/Bholaa2002/Automated-backup-script-project/blob/main/ml/cc/exercises/pandas_dataframe_ultraquick_tutorial.ipynb\" target=\"_parent\"><img src=\"https://colab.research.google.com/assets/colab-badge.svg\" alt=\"Open In Colab\"/></a>"
      ]
    },
    {
      "cell_type": "code",
      "source": [
        "import pandas as pd\n",
        "import numpy as np\n",
        "\n",
        "data={\n",
        "\n",
        "      'ID':[1,2,3,4,5,6,6],\n",
        "      'Name':['Abhijeet','Diya','Ranjeet','Amit','Ananya','Sneha','Sneha'],\n",
        "      'Hr_Studied':[5,3,4,np.nan,6,100,100],\n",
        "      'Attendance':[90,80,70,50,35,40,40],\n",
        "      'Math_marks':[78,65,88,45,90,200,200],\n",
        "      'Eng_marks':[85,55,90,60,82,np.nan,np.nan],\n",
        "      'CGPA':[8.2,6.8,np.nan,5.5,9.0,0.2,0.2]\n",
        "}\n",
        "df=pd.DataFrame(data)\n",
        "print(\"Student performance Dataset (with Data Issues):\\n\")\n",
        "print(df)\n",
        "\n",
        "\n",
        "print(\"\\n\")\n",
        "print(type(df))\n",
        "\n",
        "print(\"\\n\")\n",
        "df.info()\n",
        "\n",
        "\n",
        "print(\"\\n\")\n",
        "df.describe()"
      ],
      "metadata": {
        "id": "OcO18wWZ79R3"
      },
      "execution_count": null,
      "outputs": []
    },
    {
      "cell_type": "code",
      "source": [
        "print(\"\\n_________________________________\\n\")\n",
        "\n",
        "df['CGPA']=df['CGPA'].fillna(df['CGPA'].mean())\n",
        "df['Hr_Studied']=df['Hr_Studied'].fillna(df['Hr_Studied'].mean())\n",
        "print(df)"
      ],
      "metadata": {
        "id": "7NgWDFbT8eUX"
      },
      "execution_count": null,
      "outputs": []
    },
    {
      "cell_type": "code",
      "source": [
        "from sklearn.linear_model import LinearRegression\n",
        "from sklearn.model_selection import train_test_split\n",
        "from sklearn.metrics import r2_score\n",
        "\n",
        "print(\"Data: After Data preprocessing\\n\", df  )\n",
        "print(\"_____________\\n\")\n",
        "X=df[['Hr_Studied']]\n",
        "Y=df['CGPA']\n",
        "\n",
        "X_train,X_test,Y_train, Y_test= train_test_split(X,Y,test_size=0.3,random_state=42)\n",
        "\n",
        "print(\"X_train : \\n\",X_train)\n",
        "print(\"_______________\\n\")\n",
        "print(\"Y_train : \\n\",Y_train)\n",
        "print(\"_______________\\n\")\n",
        "print(\"X_test : \\n\",X_test)\n",
        "print(\"_______________\\n\")\n",
        "print(\"Actual Y_test : \\n\", Y_test)\n",
        "\n"
      ],
      "metadata": {
        "id": "xp9Yy_Dc85tj"
      },
      "execution_count": null,
      "outputs": []
    },
    {
      "cell_type": "code",
      "source": [
        "model= LinearRegression()\n",
        "model.fit(X_train,Y_train)\n",
        "\n",
        "print(\"_________________\\n\")\n",
        "\n",
        "pred_Y_test=model.predict(X_test)\n",
        "\n",
        "combined_df= pd.DataFrame({\n",
        "    'Actual_X_test' : X_test['Hr_Studied'],\n",
        "    'Actual_Y_test' : Y_test,\n",
        "    'Predicted_Y_test' : pred_Y_test\n",
        "})\n",
        "print(\"Predicted_Y_test absed on X_test : \\n\" , combined_df)"
      ],
      "metadata": {
        "id": "Y13dFYucChhv"
      },
      "execution_count": null,
      "outputs": []
    },
    {
      "cell_type": "code",
      "source": [
        "slope = model.coef_[0]\n",
        "intercept= model.intercept_\n",
        "print(f\"\\nBest Fit Line Equation : CGPA= {slope: .3f} * Hr_Studied + {intercept : .3f}\")"
      ],
      "metadata": {
        "id": "Yz8UZR2PAqEZ"
      },
      "execution_count": null,
      "outputs": []
    },
    {
      "cell_type": "code",
      "source": [
        "import matplotlib.pyplot as plt\n",
        "plt.figure(figsize=(10,6))\n",
        "plt.scatter(X_train['Hr_Studied'],Y_train,color='blue', label='Training Data(X_train,Y_train)')\n",
        "plt.scatter(X_test['Hr_Studied'],Y_test,color='orange', label='Test Data(X_test,Y_test)')\n",
        "plt.plot(X_train['Hr_Studied'],model.predict(X_train),color='red', linewidth=2, label='Best Fit Line')\n",
        "\n",
        "plt.xlabel('Hr_Studied')\n",
        "plt.ylabel('CGPA')\n",
        "plt.title('Train-Test Split: Hours Studied vs CGPA ')\n",
        "plt.legend()"
      ],
      "metadata": {
        "id": "ktpUFt4pFJAM"
      },
      "execution_count": null,
      "outputs": []
    },
    {
      "cell_type": "code",
      "source": [
        "import math\n",
        "import numpy as np\n",
        "import matplotlib.pyplot as plt\n",
        "import seaborn as sns\n",
        "from scipy import stats\n",
        "# math\n",
        "print(\"√25:\", math.sqrt(25), \"2³:\", math.pow(2,3), \"5!:\", math.factorial(5))\n",
        "# numpy\n",
        "a = np.array([1,2,3])\n",
        "print(\"Array:\", a, \"Sum:\", np.sum(a), \"Mean:\", np.mean(a))\n",
        "# matplotlib\n",
        "x = [1,2,3]; y = [i**2 for i in x]\n",
        "plt.plot(x,y,marker='o'); plt.title(\"y = x²\"); plt.show()\n",
        "\n",
        "# seaborn\n",
        "tips = sns.load_dataset(\"tips\")\n",
        "sns.barplot(x=\"day\", y=\"total_bill\", data=tips); plt.show()\n",
        "\n",
        "# scipy\n",
        "d = [10,20,20,40,60]\n",
        "print(\"Mode:\", stats.mode(d, keepdims=True).mode[0])"
      ],
      "metadata": {
        "id": "Ql7gOI42_DBJ"
      },
      "execution_count": null,
      "outputs": []
    },
    {
      "cell_type": "code",
      "source": [
        "import pandas as pd\n",
        "import numpy as np\n",
        "\n",
        "data = {\n",
        "'Emp_ID': [201, 202, 203, 204, 205, 206, 206],\n",
        "'Name': ['Amit', 'Shiksha', 'Rohit', 'Sneha', 'Aman', 'Diksha', 'Divya'], 'Age': [28, 25, 23, 26, np.nan, 22, 24],\n",
        "'Department': ['Sales', 'HR', 'IT', 'Finance', 'Sales', 'IT', 'IT'], 'Work_Hours': [40, 38, 45, 42, 1000, 35, 35],\n",
        "'Performance_Score': [8.5, 9.0, np.nan, 6.5, 9.2, 1.5, 1.5],\n",
        "'Leaves_Taken': [2, 1, 3, 4, np.nan, 20, 20]\n",
        "}\n",
        "\n",
        "df = pd.DataFrame(data)\n",
        "print(\"Employee Work Dataset:\\n\")\n",
        "print(df)\n",
        "\n",
        "print(\"\\n\")\n",
        "df.info()\n",
        "\n",
        "print(\"\\n\")\n",
        "print(df.describe())\n",
        "\n"
      ],
      "metadata": {
        "id": "vRdlaEaZALLa"
      },
      "execution_count": null,
      "outputs": []
    },
    {
      "cell_type": "code",
      "source": [
        "##Upload csv to colab\n",
        "from google.colab import files\n",
        "print(type(files))\n",
        "files.upload()\n",
        "\n",
        "import pandas as pd\n",
        "import numpy as np\n",
        "import matplotlib.pyplot as plt\n",
        "from sklearn.linear_model import LinearRegression\n",
        "from sklearn.metrics import mean_squared_error\n",
        "\n",
        "df=pd.read_csv('Salary_Data.csv')\n",
        "\n",
        "\n",
        "#Split into Features (X) and Target (y)\n",
        "X = df[['YearsExperience']] # 2D\n",
        "y = df['Salary']       # 1D\n",
        "\n",
        "#Create and Train the Model\n",
        "model = LinearRegression()\n",
        "model.fit(X, y)\n",
        "\n",
        "# Predict the values\n",
        "y_pred = model.predict(X)\n",
        "\n",
        "# Plot the Best Fit Line\n",
        "plt.figure(figsize=(10, 5))\n",
        "plt.scatter(X, y, color='blue', label='Actual Data')\n",
        "plt.plot(X, y_pred, color='red', label='Best Fit Line')\n",
        "plt.title('Linear Regression: Experience vs Salary')\n",
        "plt.xlabel('Years of Experience')\n",
        "plt.ylabel('Salary')\n",
        "plt.legend()\n",
        "plt.grid(True)\n",
        "plt.show()\n",
        "\n",
        "# Calculate MSE and RMSE\n",
        "mse = mean_squared_error(y, y_pred)\n",
        "rmse = np.sqrt(mse)\n",
        "\n",
        "print(\"Mean Squared Error (MSE):\", mse)\n",
        "print(\"Root Mean Squared Error (RMSE):\", rmse)"
      ],
      "metadata": {
        "id": "ZXElaxadBCn1"
      },
      "execution_count": null,
      "outputs": []
    }
  ]
}