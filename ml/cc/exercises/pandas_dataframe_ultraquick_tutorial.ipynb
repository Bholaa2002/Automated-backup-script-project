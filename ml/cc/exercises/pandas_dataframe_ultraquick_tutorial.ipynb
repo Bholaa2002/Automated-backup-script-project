{
  "nbformat": 4,
  "nbformat_minor": 0,
  "metadata": {
    "colab": {
      "name": "Pandas DataFrame UltraQuick Tutorial.ipynb",
      "provenance": [],
      "private_outputs": true
    },
    "kernelspec": {
      "name": "python3",
      "display_name": "Python 3"
    }
  },
  "cells": [
    {
      "cell_type": "code",
      "source": [
        "import pandas as pd\n",
        "import numpy as np\n",
        "\n",
        "data={\n",
        "\n",
        "      'ID':[1,2,3,4,5,6,6],\n",
        "      'Name':['Abhijeet','Diya','Ranjeet','Amit','Ananya','Sneha','Sneha'],\n",
        "      'Hr_Studied':[5,3,4,np.nan,6,100,100],\n",
        "      'Attendance':[90,80,70,50,35,40,40],\n",
        "      'Math_marks':[78,65,88,45,90,200,200],\n",
        "      'Eng_marks':[85,55,90,60,82,np.nan,np.nan],\n",
        "      'CGPA':[8.2,6.8,np.nan,5.5,9.0,0.2,0.2]\n",
        "}\n",
        "df=pd.DataFrame(data)\n",
        "print(\"Student performance Dataset (with Data Issues):\\n\")\n",
        "print(df)\n",
        "\n",
        "\n",
        "print(\"\\n\")\n",
        "print(type(df))\n",
        "\n",
        "print(\"\\n\")\n",
        "df.info()\n",
        "\n",
        "\n",
        "print(\"\\n\")\n",
        "df.describe()"
      ],
      "metadata": {
        "id": "OcO18wWZ79R3"
      },
      "execution_count": null,
      "outputs": []
    },
    {
      "cell_type": "code",
      "source": [
        "print(\"\\n_________________________________\\n\")\n",
        "\n",
        "df['CGPA']=df['CGPA'].fillna(df['CGPA'].mean())\n",
        "df['Hr_Studied']=df['Hr_Studied'].fillna(df['Hr_Studied'].mean())\n",
        "print(df)"
      ],
      "metadata": {
        "id": "7NgWDFbT8eUX"
      },
      "execution_count": null,
      "outputs": []
    },
    {
      "cell_type": "code",
      "source": [
        "from sklearn.linear_model import LinearRegression\n",
        "from sklearn.model_selection import train_test_split\n",
        "from sklearn.metrics import r2_score\n",
        "\n",
        "print(\"Data: After Data preprocessing\\n\", df  )\n",
        "print(\"_____________\\n\")\n",
        "X=df[['Hr_Studied']]\n",
        "Y=df['CGPA']\n",
        "\n",
        "X_train,X_test,Y_train, Y_test= train_test_split(X,Y,test_size=0.3,random_state=42)\n",
        "\n",
        "print(\"X_train : \\n\",X_train)\n",
        "print(\"_______________\\n\")\n",
        "print(\"Y_train : \\n\",Y_train)\n",
        "print(\"_______________\\n\")\n",
        "print(\"X_test : \\n\",X_test)\n",
        "print(\"_______________\\n\")\n",
        "print(\"Actual Y_test : \\n\", Y_test)\n",
        "\n"
      ],
      "metadata": {
        "id": "xp9Yy_Dc85tj"
      },
      "execution_count": null,
      "outputs": []
    },
    {
      "cell_type": "code",
      "source": [
        "model= LinearRegression()\n",
        "model.fit(X_train,Y_train)\n",
        "\n",
        "print(\"_________________\\n\")\n",
        "\n",
        "pred_Y_test=model.predict(X_test)\n",
        "\n",
        "combined_df= pd.DataFrame({\n",
        "    'Actual_X_test' : X_test['Hr_Studied'],\n",
        "    'Actual_Y_test' : Y_test,\n",
        "    'Predicted_Y_test' : pred_Y_test\n",
        "})\n",
        "print(\"Predicted_Y_test absed on X_test : \\n\" , combined_df)"
      ],
      "metadata": {
        "id": "Y13dFYucChhv"
      },
      "execution_count": null,
      "outputs": []
    },
    {
      "cell_type": "code",
      "source": [
        "slope = model.coef_[0]\n",
        "intercept= model.intercept_\n",
        "print(f\"\\nBest Fit Line Equation : CGPA= {slope: .3f} * Hr_Studied + {intercept : .3f}\")"
      ],
      "metadata": {
        "id": "Yz8UZR2PAqEZ"
      },
      "execution_count": null,
      "outputs": []
    },
    {
      "cell_type": "code",
      "source": [
        "import matplotlib.pyplot as plt\n",
        "plt.figure(figsize=(10,6))\n",
        "plt.scatter(X_train['Hr_Studied'],Y_train,color='blue', label='Training Data(X_train,Y_train)')\n",
        "plt.scatter(X_test['Hr_Studied'],Y_test,color='orange', label='Test Data(X_test,Y_test)')\n",
        "plt.plot(X_train['Hr_Studied'],model.predict(X_train),color='red', linewidth=2, label='Best Fit Line')\n",
        "\n",
        "plt.xlabel('Hr_Studied')\n",
        "plt.ylabel('CGPA')\n",
        "plt.title('Train-Test Split: Hours Studied vs CGPA ')\n",
        "plt.legend()"
      ],
      "metadata": {
        "id": "ktpUFt4pFJAM"
      },
      "execution_count": null,
      "outputs": []
    }
  ]
}